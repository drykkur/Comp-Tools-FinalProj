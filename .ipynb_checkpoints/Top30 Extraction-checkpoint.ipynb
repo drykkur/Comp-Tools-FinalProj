{
 "cells": [
  {
   "cell_type": "code",
   "execution_count": 41,
   "id": "4f6fbb91-f66e-4223-b499-b8fc896ea5dd",
   "metadata": {},
   "outputs": [
    {
     "name": "stderr",
     "output_type": "stream",
     "text": [
      "[nltk_data] Downloading package vader_lexicon to\n",
      "[nltk_data]     C:\\Users\\Paulo\\AppData\\Roaming\\nltk_data...\n",
      "[nltk_data]   Package vader_lexicon is already up-to-date!\n",
      "[nltk_data] Downloading package wordnet to\n",
      "[nltk_data]     C:\\Users\\Paulo\\AppData\\Roaming\\nltk_data...\n",
      "[nltk_data]   Package wordnet is already up-to-date!\n",
      "[nltk_data] Downloading package punkt to\n",
      "[nltk_data]     C:\\Users\\Paulo\\AppData\\Roaming\\nltk_data...\n",
      "[nltk_data]   Package punkt is already up-to-date!\n",
      "[nltk_data] Downloading package omw-1.4 to\n",
      "[nltk_data]     C:\\Users\\Paulo\\AppData\\Roaming\\nltk_data...\n",
      "[nltk_data]   Package omw-1.4 is already up-to-date!\n"
     ]
    },
    {
     "data": {
      "text/plain": [
       "True"
      ]
     },
     "execution_count": 41,
     "metadata": {},
     "output_type": "execute_result"
    }
   ],
   "source": [
    "import pandas as pd\n",
    "import matplotlib.pyplot as plt \n",
    "import seaborn as sns\n",
    "import nltk  #https://github.com/cjhutto/vaderSentiment\n",
    "nltk.download('vader_lexicon')\n",
    "from nltk.sentiment import SentimentIntensityAnalyzer\n",
    "import nltk\n",
    "nltk.download('wordnet')\n",
    "nltk.download('punkt')\n",
    "from sklearn.feature_extraction import _stop_words\n",
    "from nltk.stem import WordNetLemmatizer\n",
    "from nltk import word_tokenize\n",
    "from nltk import FreqDist\n",
    "import string\n",
    "from wordcloud import WordCloud\n",
    "lemmatizer = WordNetLemmatizer()\n",
    "Stop_Words= _stop_words.ENGLISH_STOP_WORDS\n",
    "nltk.download('omw-1.4')"
   ]
  },
  {
   "cell_type": "code",
   "execution_count": 43,
   "id": "bf79e343-3dc6-4f59-a7ed-d4a529544da7",
   "metadata": {},
   "outputs": [],
   "source": [
    "data1=pd.read_csv('articles1.csv',index_col=0)\n",
    "data2=pd.read_csv('articles2.csv',index_col=0)\n",
    "data3=pd.read_csv('articles3.csv',index_col=0)\n",
    "data=pd.concat([data1,data2,data3])"
   ]
  },
  {
   "cell_type": "code",
   "execution_count": 60,
   "id": "1ec0578f-46a8-42ef-a5fe-d91af3125350",
   "metadata": {},
   "outputs": [
    {
     "name": "stdout",
     "output_type": "stream",
     "text": [
      "                  author    id  title  publication  date  year  month   url  \\\n",
      "0         Breitbart News  1559   1559         1559  1559  1559   1559     0   \n",
      "1                Pam Key  1282   1282         1282  1282  1282   1282     0   \n",
      "2       Associated Press  1231   1231         1231  1224  1224   1224  1231   \n",
      "3       Charlie Spiering   928    928          928   928   928    928     0   \n",
      "4          Jerome Hudson   806    806          806   806   806    806     0   \n",
      "5           John Hayward   747    747          747   747   747    747     0   \n",
      "6        Daniel Nussbaum   735    735          735   735   735    735     0   \n",
      "7            AWR Hawkins   720    720          720   720   720    720     0   \n",
      "8           Ian Hanchett   647    647          647   647   647    647     0   \n",
      "9         Joel B. Pollak   624    624          624   624   624    624     0   \n",
      "10  Post Editorial Board   620    620          620   620   620    620   620   \n",
      "11           Alex Swoyer   604    604          604   604   604    604     0   \n",
      "12      Camila Domonoske   593    593          593   593   593    593   593   \n",
      "13    Warner Todd Huston   545    545          545   545   545    545     0   \n",
      "14             NPR Staff   514    514          514   514   514    514   514   \n",
      "15             Jeff Poor   505    505          505   505   505    505     0   \n",
      "16        Merrit Kennedy   484    484          484   484   484    484   484   \n",
      "17           Trent Baker   457    457          457   457   457    457     0   \n",
      "18      Breitbart London   447    447          447   447   447    447     0   \n",
      "19   Katherine Rodriguez   435    435          435   435   435    435     0   \n",
      "20               Reuters   434    434          434   434   434    434   383   \n",
      "21          Charlie Nash   421    421          421   421   421    421     0   \n",
      "22         Bill Chappell   412    412          412   412   412    412   412   \n",
      "23               Ben Kew   373    373          373   373   373    373     0   \n",
      "24        Frances Martel   366    366          366   366   366    366     0   \n",
      "25          David French   363    363          363   363   363    363   363   \n",
      "26          German Lopez   354    354          354   354   354    354   354   \n",
      "27       David A. Graham   351    351          351   351   351    351     0   \n",
      "28             Bob Price   340    340          340   340   340    340     0   \n",
      "29            Esme Cribb   338    338          338     0     0      0   338   \n",
      "\n",
      "    content  \n",
      "0      1559  \n",
      "1      1282  \n",
      "2      1231  \n",
      "3       928  \n",
      "4       806  \n",
      "5       747  \n",
      "6       735  \n",
      "7       720  \n",
      "8       647  \n",
      "9       624  \n",
      "10      620  \n",
      "11      604  \n",
      "12      593  \n",
      "13      545  \n",
      "14      514  \n",
      "15      505  \n",
      "16      484  \n",
      "17      457  \n",
      "18      447  \n",
      "19      435  \n",
      "20      434  \n",
      "21      421  \n",
      "22      412  \n",
      "23      373  \n",
      "24      366  \n",
      "25      363  \n",
      "26      354  \n",
      "27      351  \n",
      "28      340  \n",
      "29      338  \n"
     ]
    }
   ],
   "source": [
    "top_30=data.groupby('author').count().sort_values(by='title',ascending=False)[0:30].reset_index()\n",
    "top_30_list=list(top_30['author'])"
   ]
  },
  {
   "cell_type": "code",
   "execution_count": 62,
   "id": "a4b3bebd-dbd5-4d31-8f15-da6ee377b29e",
   "metadata": {},
   "outputs": [],
   "source": [
    "data_top_30=data[data['author'].isin(top_30_list)]"
   ]
  },
  {
   "cell_type": "code",
   "execution_count": 64,
   "id": "fcc228c6-32ea-4670-a739-915803218b31",
   "metadata": {},
   "outputs": [],
   "source": [
    "data_top_30.to_csv('Top30.csv')"
   ]
  }
 ],
 "metadata": {
  "kernelspec": {
   "display_name": "Python 3 (ipykernel)",
   "language": "python",
   "name": "python3"
  },
  "language_info": {
   "codemirror_mode": {
    "name": "ipython",
    "version": 3
   },
   "file_extension": ".py",
   "mimetype": "text/x-python",
   "name": "python",
   "nbconvert_exporter": "python",
   "pygments_lexer": "ipython3",
   "version": "3.8.8"
  }
 },
 "nbformat": 4,
 "nbformat_minor": 5
}
