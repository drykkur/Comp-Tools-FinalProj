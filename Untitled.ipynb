{
 "cells": [
  {
   "cell_type": "code",
   "execution_count": 1,
   "metadata": {},
   "outputs": [
    {
     "name": "stderr",
     "output_type": "stream",
     "text": [
      "[nltk_data] Downloading package wordnet to\n",
      "[nltk_data]     /Users/leandrocorona/nltk_data...\n",
      "[nltk_data]   Package wordnet is already up-to-date!\n",
      "[nltk_data] Downloading package punkt to\n",
      "[nltk_data]     /Users/leandrocorona/nltk_data...\n",
      "[nltk_data]   Package punkt is already up-to-date!\n"
     ]
    }
   ],
   "source": [
    "import warnings\n",
    "warnings.filterwarnings('ignore')\n",
    "warnings.simplefilter('ignore')\n",
    "from datasketch import MinHash, MinHashLSHForest\n",
    "import numpy as np\n",
    "import pandas as pd\n",
    "import matplotlib.pyplot as plt\n",
    "import string\n",
    "import re"
   ]
  },
  {
   "cell_type": "code",
   "execution_count": 10,
   "metadata": {},
   "outputs": [],
   "source": [
    "data = pd.read_csv('top30.csv')\n",
    "data['lenght']=data['content'].apply(len)\n",
    "data=data.sort_values(by='lenght',ascending=False)[4:]\n",
    "data = data[data['author']!='Breitbart News']\n",
    "names = data.author.value_counts().index.tolist()\n",
    "minarticles = data.author[data.author == names[-1]].value_counts()\n",
    "#names.remove('Breitbart News')"
   ]
  },
  {
   "cell_type": "code",
   "execution_count": 11,
   "metadata": {},
   "outputs": [],
   "source": [
    "#Preprocess split a text into individual tokens based on whitespace.\n",
    "def preprocess(text):\n",
    "    text = re.sub(r'[^\\w\\s]','',text)\n",
    "    tokens = text.lower()\n",
    "    tokens = tokens.split()\n",
    "    return tokens"
   ]
  },
  {
   "cell_type": "code",
   "execution_count": 53,
   "metadata": {},
   "outputs": [],
   "source": [
    "def get_forest(data, perms):    \n",
    "    #A mapping of the whole dataset as minhashes so it is stored and it can be used with different purposes\n",
    "    minhash = []\n",
    "    for text in data['content']:\n",
    "        tokens = preprocess(text)\n",
    "        m = MinHash(num_perm=perms)\n",
    "        for s in tokens:\n",
    "            m.update(s.encode('utf8'))\n",
    "        minhash.append(m)\n",
    "        \n",
    "    forest = MinHashLSHForest(num_perm=perms)\n",
    "    \n",
    "    for i,m in enumerate(minhash):\n",
    "        forest.add(i,m)\n",
    "    #So the indices are searchable:\n",
    "    forest.index()    \n",
    "    return forest"
   ]
  },
  {
   "cell_type": "code",
   "execution_count": 55,
   "metadata": {},
   "outputs": [],
   "source": [
    "permutations = 128\n",
    "forest = get_forest(data,permutations)"
   ]
  },
  {
   "cell_type": "code",
   "execution_count": 232,
   "metadata": {},
   "outputs": [],
   "source": [
    "def get_minhash(text):\n",
    "        #list of minhash for the input text\n",
    "        minhash1 = []\n",
    "        #list of minhash for the text to be compared\n",
    "        minhash2 = []\n",
    "        #dict that will store the name of the document plus the Jaccard Similarity\n",
    "        similarity = {}\n",
    "        \n",
    "        tokens1 = preprocess(text)\n",
    "        m1 = MinHash(num_perm=128)\n",
    "        for s in tokens1:\n",
    "            m1.update(s.encode('utf8'))\n",
    "        minhash1.append(m1)\n",
    "        #getting the indices of the top 5 articles by Jaccard Similarity (if the input article is from the the same dataset the top 1 will be itself)\n",
    "        result =forest.query(m1, 5)\n",
    "        for item in result:\n",
    "            tokens = preprocess(data.content[item])\n",
    "            m2 = MinHash(num_perm=128)\n",
    "            for t in tokens:\n",
    "                m2.update(t.encode('utf8'))\n",
    "            minhash2.append(m2)\n",
    "            #key with the Title and value with the Jaccard Similarity\n",
    "            similarity[data.title[item]] = m1.jaccard(m2)\n",
    "        return similarity"
   ]
  },
  {
   "cell_type": "code",
   "execution_count": 233,
   "metadata": {},
   "outputs": [],
   "source": [
    "data['jaccard_sim']= data.content.apply(get_minhash)"
   ]
  },
  {
   "cell_type": "code",
   "execution_count": 294,
   "metadata": {},
   "outputs": [
    {
     "data": {
      "text/plain": [
       "{'DNC Chair Brazile: Hillary Speech Leaks ’Crap’ Postmarked From Russia - Breitbart': 0.125,\n",
       " 'Arianna Huffington: Trump ’a Clear and Present Danger’ - Breitbart': 0.9765625,\n",
       " 'Carl Bernstein: Trump Has ’Lied as No President of the United States in My Lifetime Has’ - Breitbart': 0.3203125,\n",
       " '‘The View’ Co-host Joy Behar: Trump Is ‘The Most Dangerous Man Alive’ - Breitbart': 0.203125,\n",
       " 'Arianna Huffington: Trump Is Like Kim Jong-un - ’Dangerous,’ ’a Buffoon’ - Breitbart': 1.0}"
      ]
     },
     "execution_count": 294,
     "metadata": {},
     "output_type": "execute_result"
    }
   ],
   "source": [
    "#Example of the top 5 articles by Jaccard Similarity, \n",
    "data.jaccard_sim.iloc[0]"
   ]
  },
  {
   "cell_type": "code",
   "execution_count": 298,
   "metadata": {},
   "outputs": [
    {
     "data": {
      "text/plain": [
       "16269    Sunday on CNN’s “Reliable Sources,” the   and ...\n",
       "Name: content, dtype: object"
      ]
     },
     "execution_count": 298,
     "metadata": {},
     "output_type": "execute_result"
    }
   ],
   "source": [
    "data[data['title']=='Arianna Huffington: Trump ’a Clear and Present Danger’ - Breitbart']['content']"
   ]
  },
  {
   "cell_type": "code",
   "execution_count": 299,
   "metadata": {},
   "outputs": [
    {
     "data": {
      "text/plain": [
       "16345    Sunday on CNN’s “Reliable Sources,” Arianna Hu...\n",
       "Name: content, dtype: object"
      ]
     },
     "execution_count": 299,
     "metadata": {},
     "output_type": "execute_result"
    }
   ],
   "source": [
    "data[data['title']=='Arianna Huffington: Trump Is Like Kim Jong-un - ’Dangerous,’ ’a Buffoon’ - Breitbart']['content']"
   ]
  },
  {
   "cell_type": "code",
   "execution_count": null,
   "metadata": {},
   "outputs": [],
   "source": []
  }
 ],
 "metadata": {
  "kernelspec": {
   "display_name": "Python 3 (ipykernel)",
   "language": "python",
   "name": "python3"
  },
  "language_info": {
   "codemirror_mode": {
    "name": "ipython",
    "version": 3
   },
   "file_extension": ".py",
   "mimetype": "text/x-python",
   "name": "python",
   "nbconvert_exporter": "python",
   "pygments_lexer": "ipython3",
   "version": "3.8.5"
  }
 },
 "nbformat": 4,
 "nbformat_minor": 5
}
