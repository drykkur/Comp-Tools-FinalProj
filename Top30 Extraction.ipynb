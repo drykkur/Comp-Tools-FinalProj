{
 "cells": [
  {
   "cell_type": "code",
   "execution_count": 18,
   "id": "4f6fbb91-f66e-4223-b499-b8fc896ea5dd",
   "metadata": {},
   "outputs": [
    {
     "name": "stderr",
     "output_type": "stream",
     "text": [
      "[nltk_data] Downloading package vader_lexicon to\n",
      "[nltk_data]     C:\\Users\\Paulo\\AppData\\Roaming\\nltk_data...\n",
      "[nltk_data]   Package vader_lexicon is already up-to-date!\n",
      "[nltk_data] Downloading package wordnet to\n",
      "[nltk_data]     C:\\Users\\Paulo\\AppData\\Roaming\\nltk_data...\n",
      "[nltk_data]   Package wordnet is already up-to-date!\n",
      "[nltk_data] Downloading package punkt to\n",
      "[nltk_data]     C:\\Users\\Paulo\\AppData\\Roaming\\nltk_data...\n",
      "[nltk_data]   Package punkt is already up-to-date!\n",
      "[nltk_data] Downloading package omw-1.4 to\n",
      "[nltk_data]     C:\\Users\\Paulo\\AppData\\Roaming\\nltk_data...\n",
      "[nltk_data]   Package omw-1.4 is already up-to-date!\n"
     ]
    },
    {
     "data": {
      "text/plain": [
       "True"
      ]
     },
     "execution_count": 18,
     "metadata": {},
     "output_type": "execute_result"
    }
   ],
   "source": [
    "import pandas as pd\n",
    "import matplotlib.pyplot as plt \n",
    "import seaborn as sns\n",
    "import nltk  #https://github.com/cjhutto/vaderSentiment\n",
    "nltk.download('vader_lexicon')\n",
    "from nltk.sentiment import SentimentIntensityAnalyzer\n",
    "import nltk\n",
    "nltk.download('wordnet')\n",
    "nltk.download('punkt')\n",
    "from sklearn.feature_extraction import _stop_words\n",
    "from nltk.stem import WordNetLemmatizer\n",
    "from nltk import word_tokenize\n",
    "from nltk import FreqDist\n",
    "import string\n",
    "from wordcloud import WordCloud\n",
    "lemmatizer = WordNetLemmatizer()\n",
    "Stop_Words= _stop_words.ENGLISH_STOP_WORDS\n",
    "nltk.download('omw-1.4')"
   ]
  },
  {
   "cell_type": "code",
   "execution_count": 27,
   "id": "bf79e343-3dc6-4f59-a7ed-d4a529544da7",
   "metadata": {},
   "outputs": [],
   "source": [
    "data1=pd.read_csv('articles1.csv',index_col=0)\n",
    "data2=pd.read_csv('articles2.csv',index_col=0)\n",
    "data3=pd.read_csv('articles3.csv',index_col=0)\n",
    "data=pd.concat([data1,data2,data3])"
   ]
  },
  {
   "cell_type": "code",
   "execution_count": null,
   "id": "759c434c-c6a3-4673-945e-ea4a2a45c240",
   "metadata": {},
   "outputs": [],
   "source": [
    "#df[df[\"team\"].str.contains(\"Team 1\") == False]\n",
    "print(len(data))\n",
    "data['content']=data['content'].str.lower()\n",
    "data=data[data['content'].str.contains('advertisement')==False]\n",
    "print(len(data))"
   ]
  },
  {
   "cell_type": "code",
   "execution_count": null,
   "id": "1ec0578f-46a8-42ef-a5fe-d91af3125350",
   "metadata": {},
   "outputs": [],
   "source": [
    "top_30=data.groupby('author').count().sort_values(by='title',ascending=False)[0:30].reset_index()\n",
    "top_30_list=list(top_30['author'])"
   ]
  },
  {
   "cell_type": "code",
   "execution_count": 62,
   "id": "a4b3bebd-dbd5-4d31-8f15-da6ee377b29e",
   "metadata": {},
   "outputs": [],
   "source": [
    "data_top_30=data[data['author'].isin(top_30_list)]"
   ]
  },
  {
   "cell_type": "code",
   "execution_count": 64,
   "id": "fcc228c6-32ea-4670-a739-915803218b31",
   "metadata": {},
   "outputs": [],
   "source": [
    "data_top_30.to_csv('Top30.csv')"
   ]
  }
 ],
 "metadata": {
  "kernelspec": {
   "display_name": "Python 3 (ipykernel)",
   "language": "python",
   "name": "python3"
  },
  "language_info": {
   "codemirror_mode": {
    "name": "ipython",
    "version": 3
   },
   "file_extension": ".py",
   "mimetype": "text/x-python",
   "name": "python",
   "nbconvert_exporter": "python",
   "pygments_lexer": "ipython3",
   "version": "3.8.8"
  }
 },
 "nbformat": 4,
 "nbformat_minor": 5
}
